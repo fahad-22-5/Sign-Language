{
 "cells": [
  {
   "cell_type": "code",
   "execution_count": 14,
   "id": "ef55a776-c341-4519-a53e-230d1bf62f06",
   "metadata": {},
   "outputs": [],
   "source": [
    "from keras.models import Sequential\n",
    "from keras.layers import Conv2D\n",
    "from keras.layers import MaxPooling2D\n",
    "from keras.layers import Flatten\n",
    "from keras.layers import Dense, Dropout\n",
    "from keras import optimizers\n",
    "from keras.layers import LSTM"
   ]
  },
  {
   "cell_type": "code",
   "execution_count": 15,
   "id": "b539d391-cd4f-4d36-87ba-e601c23f45f1",
   "metadata": {},
   "outputs": [],
   "source": [
    "classifier = Sequential()"
   ]
  },
  {
   "cell_type": "code",
   "execution_count": 16,
   "id": "892ca5ec-7011-47a6-b7f0-220b281c8136",
   "metadata": {},
   "outputs": [],
   "source": [
    "classifier.add(Conv2D(32, 3,  3, input_shape = (64, 64, 3), activation = 'relu'))"
   ]
  },
  {
   "cell_type": "code",
   "execution_count": 17,
   "id": "6ea5f903-55c2-41a2-a869-a25411c5690d",
   "metadata": {},
   "outputs": [],
   "source": [
    "classifier.add(MaxPooling2D(pool_size =(2,2)))"
   ]
  },
  {
   "cell_type": "code",
   "execution_count": 18,
   "id": "bc5296bb-96bc-40e7-bea5-5169fa35bc90",
   "metadata": {},
   "outputs": [],
   "source": [
    "classifier.add(Conv2D(32, 3,  3, activation = 'relu'))\n",
    "classifier.add(MaxPooling2D(pool_size =(2,2)))"
   ]
  },
  {
   "cell_type": "code",
   "execution_count": 19,
   "id": "ef3b0672-2e8c-478e-8980-ad43228f0363",
   "metadata": {},
   "outputs": [],
   "source": [
    "classifier.add(Flatten())"
   ]
  },
  {
   "cell_type": "code",
   "execution_count": 20,
   "id": "fc298340-1abf-4702-b64e-e432a6ac7b3b",
   "metadata": {},
   "outputs": [],
   "source": [
    "classifier.add(Dense(256, activation = 'relu'))\n",
    "classifier.add(Dropout(0.5))\n",
    "classifier.add(Dense(26, activation = 'softmax'))"
   ]
  },
  {
   "cell_type": "code",
   "execution_count": 21,
   "id": "fef28a87-26f7-4509-816c-90e833bc40a8",
   "metadata": {},
   "outputs": [],
   "source": [
    "classifier.compile(\n",
    "              optimizer = optimizers.SGD(learning_rate = 0.1),\n",
    "              loss = 'categorical_crossentropy',\n",
    "              metrics = ['accuracy'])"
   ]
  },
  {
   "cell_type": "code",
   "execution_count": 22,
   "id": "622d7b74-7a1b-4653-8e0f-f0bf1e1e0acc",
   "metadata": {},
   "outputs": [],
   "source": [
    "from keras.preprocessing.image import ImageDataGenerator\n",
    "train_datagen = ImageDataGenerator(\n",
    "        rescale=1./255,\n",
    "        shear_range=0.2,\n",
    "        zoom_range=0.2,\n",
    "        horizontal_flip=True)"
   ]
  },
  {
   "cell_type": "code",
   "execution_count": 23,
   "id": "fcc7210c-b054-4b61-ba85-7c9e81860428",
   "metadata": {},
   "outputs": [],
   "source": [
    "test_datagen = ImageDataGenerator(rescale=1./255)"
   ]
  },
  {
   "cell_type": "code",
   "execution_count": 24,
   "id": "f89656c6-198f-44c9-a415-7244f2b55e14",
   "metadata": {},
   "outputs": [
    {
     "name": "stdout",
     "output_type": "stream",
     "text": [
      "Found 45500 images belonging to 26 classes.\n"
     ]
    }
   ],
   "source": [
    "training_set = train_datagen.flow_from_directory(\n",
    "        'C:\\\\Users\\\\eqbal\\\\OneDrive\\\\Desktop\\\\MinorProject\\\\poudel\\\\Simple-Sign-Language-Detector-master\\\\mydata\\\\training_set',\n",
    "        target_size=(64, 64),\n",
    "        batch_size=32,\n",
    "        class_mode='categorical')"
   ]
  },
  {
   "cell_type": "code",
   "execution_count": 25,
   "id": "0490c01b-af65-4a13-ad50-95032471f1d8",
   "metadata": {},
   "outputs": [
    {
     "name": "stdout",
     "output_type": "stream",
     "text": [
      "Found 6500 images belonging to 26 classes.\n"
     ]
    }
   ],
   "source": [
    "test_set = test_datagen.flow_from_directory(\n",
    "        'C:\\\\Users\\\\eqbal\\\\OneDrive\\\\Desktop\\\\MinorProject\\\\poudel\\\\Simple-Sign-Language-Detector-master\\\\mydata\\\\test_set',\n",
    "        target_size=(64, 64),\n",
    "        batch_size=32,\n",
    "        class_mode='categorical')"
   ]
  },
  {
   "cell_type": "code",
   "execution_count": 26,
   "id": "ca11bcf6-8dbd-4de3-b47b-4825e97a8942",
   "metadata": {},
   "outputs": [
    {
     "name": "stdout",
     "output_type": "stream",
     "text": [
      "Epoch 1/25\n",
      "1421/1421 [==============================] - 667s 469ms/step - loss: 2.1195 - accuracy: 0.3323 - val_loss: 1.0526 - val_accuracy: 0.6553\n",
      "Epoch 2/25\n",
      "1421/1421 [==============================] - 605s 426ms/step - loss: 1.3391 - accuracy: 0.5503 - val_loss: 0.7885 - val_accuracy: 0.7366\n",
      "Epoch 3/25\n",
      "1421/1421 [==============================] - 284s 200ms/step - loss: 1.1557 - accuracy: 0.6059 - val_loss: 0.7188 - val_accuracy: 0.7591\n",
      "Epoch 4/25\n",
      "1421/1421 [==============================] - 92s 65ms/step - loss: 1.0597 - accuracy: 0.6377 - val_loss: 0.6996 - val_accuracy: 0.7582\n",
      "Epoch 5/25\n",
      "1421/1421 [==============================] - 92s 65ms/step - loss: 0.9986 - accuracy: 0.6578 - val_loss: 0.6581 - val_accuracy: 0.7942\n",
      "Epoch 6/25\n",
      "1421/1421 [==============================] - 91s 64ms/step - loss: 0.9575 - accuracy: 0.6692 - val_loss: 0.5864 - val_accuracy: 0.8180\n",
      "Epoch 7/25\n",
      "1421/1421 [==============================] - 91s 64ms/step - loss: 0.9114 - accuracy: 0.6896 - val_loss: 0.6055 - val_accuracy: 0.8082\n",
      "Epoch 8/25\n",
      "1421/1421 [==============================] - 91s 64ms/step - loss: 0.9066 - accuracy: 0.6867 - val_loss: 0.5698 - val_accuracy: 0.8111\n",
      "Epoch 9/25\n",
      "1421/1421 [==============================] - 92s 65ms/step - loss: 0.8783 - accuracy: 0.6981 - val_loss: 0.5548 - val_accuracy: 0.8294\n",
      "Epoch 10/25\n",
      "1421/1421 [==============================] - 92s 64ms/step - loss: 0.8651 - accuracy: 0.7052 - val_loss: 0.5462 - val_accuracy: 0.8231\n",
      "Epoch 11/25\n",
      "1421/1421 [==============================] - 93s 65ms/step - loss: 0.8456 - accuracy: 0.7084 - val_loss: 0.5189 - val_accuracy: 0.8361\n",
      "Epoch 12/25\n",
      "1421/1421 [==============================] - 92s 65ms/step - loss: 0.8333 - accuracy: 0.7165 - val_loss: 0.7320 - val_accuracy: 0.7788\n",
      "Epoch 13/25\n",
      "1421/1421 [==============================] - 93s 66ms/step - loss: 0.8283 - accuracy: 0.7156 - val_loss: 0.5502 - val_accuracy: 0.8285\n",
      "Epoch 14/25\n",
      "1421/1421 [==============================] - 93s 65ms/step - loss: 0.8205 - accuracy: 0.7201 - val_loss: 0.5236 - val_accuracy: 0.8310\n",
      "Epoch 15/25\n",
      "1421/1421 [==============================] - 526s 370ms/step - loss: 0.8126 - accuracy: 0.7213 - val_loss: 0.5162 - val_accuracy: 0.8453\n",
      "Epoch 16/25\n",
      "1421/1421 [==============================] - 407s 286ms/step - loss: 0.8025 - accuracy: 0.7277 - val_loss: 0.5375 - val_accuracy: 0.8331\n",
      "Epoch 17/25\n",
      "1421/1421 [==============================] - 93s 66ms/step - loss: 0.7891 - accuracy: 0.7316 - val_loss: 0.5103 - val_accuracy: 0.8391\n",
      "Epoch 18/25\n",
      "1421/1421 [==============================] - 93s 66ms/step - loss: 0.7872 - accuracy: 0.7319 - val_loss: 0.4957 - val_accuracy: 0.8336\n",
      "Epoch 19/25\n",
      "1421/1421 [==============================] - 90s 64ms/step - loss: 0.7820 - accuracy: 0.7351 - val_loss: 0.5248 - val_accuracy: 0.8416\n",
      "Epoch 20/25\n",
      "1421/1421 [==============================] - 80s 56ms/step - loss: 0.7855 - accuracy: 0.7331 - val_loss: 0.5396 - val_accuracy: 0.8330\n",
      "Epoch 21/25\n",
      "1421/1421 [==============================] - 75s 53ms/step - loss: 0.7734 - accuracy: 0.7381 - val_loss: 0.5687 - val_accuracy: 0.8274\n",
      "Epoch 22/25\n",
      "1421/1421 [==============================] - 74s 52ms/step - loss: 0.7673 - accuracy: 0.7419 - val_loss: 0.5071 - val_accuracy: 0.8391\n",
      "Epoch 23/25\n",
      "1421/1421 [==============================] - 349s 246ms/step - loss: 0.7619 - accuracy: 0.7390 - val_loss: 0.5515 - val_accuracy: 0.8384\n",
      "Epoch 24/25\n",
      "1421/1421 [==============================] - 99s 70ms/step - loss: 0.7685 - accuracy: 0.7357 - val_loss: 0.5077 - val_accuracy: 0.8511\n",
      "Epoch 25/25\n",
      "1421/1421 [==============================] - 528s 371ms/step - loss: 0.7596 - accuracy: 0.7399 - val_loss: 0.4859 - val_accuracy: 0.8530\n"
     ]
    }
   ],
   "source": [
    "model = classifier.fit(\n",
    "        training_set,\n",
    "        steps_per_epoch=int(45500/32),\n",
    "        epochs=25,\n",
    "        validation_data=test_set,\n",
    "        validation_steps=int(6500/32),\n",
    ")"
   ]
  },
  {
   "cell_type": "code",
   "execution_count": 15,
   "id": "b614354d-ed96-4e6a-8b3e-a551d6953cec",
   "metadata": {},
   "outputs": [
    {
     "name": "stderr",
     "output_type": "stream",
     "text": [
      "C:\\Users\\eqbal\\AppData\\Local\\Programs\\Python\\Python311\\Lib\\site-packages\\keras\\src\\engine\\training.py:3079: UserWarning: You are saving your model as an HDF5 file via `model.save()`. This file format is considered legacy. We recommend using instead the native Keras format, e.g. `model.save('my_model.keras')`.\n",
      "  saving_api.save_model(\n"
     ]
    }
   ],
   "source": [
    "#Saving the model\n",
    "import h5py\n",
    "classifier.save('fahad_model1.h5')"
   ]
  },
  {
   "cell_type": "code",
   "execution_count": 27,
   "id": "cb0a9091-af45-499f-ab9d-25a2b9c35493",
   "metadata": {},
   "outputs": [
    {
     "name": "stdout",
     "output_type": "stream",
     "text": [
      "dict_keys(['loss', 'accuracy', 'val_loss', 'val_accuracy'])\n"
     ]
    }
   ],
   "source": [
    "print(model.history.keys())\n",
    "import matplotlib.pyplot as plt"
   ]
  },
  {
   "cell_type": "code",
   "execution_count": 28,
   "id": "b189c7a1-c5ff-4b88-b2d9-dd031a1ef56b",
   "metadata": {},
   "outputs": [
    {
     "data": {
      "image/png": "[encoded data removed]",
      "text/plain": [
       "<Figure size 640x480 with 1 Axes>"
      ]
     },
     "metadata": {},
     "output_type": "display_data"
    }
   ],
   "source": [
    "plt.plot(model.history['accuracy'])\n",
    "plt.plot(model.history['val_accuracy'])\n",
    "plt.title('model accuracy')\n",
    "plt.ylabel('accuracy')\n",
    "plt.xlabel('epoch')\n",
    "plt.legend(['train', 'test'], loc='upper left')\n",
    "plt.show()"
   ]
  },
  {
   "cell_type": "code",
   "execution_count": 29,
   "id": "b0afcd59-c39c-479a-b907-0a51f42e49f7",
   "metadata": {},
   "outputs": [
    {
     "data": {
      "image/png": "[encoded data removed]",
      "text/plain": [
       "<Figure size 640x480 with 1 Axes>"
      ]
     },
     "metadata": {},
     "output_type": "display_data"
    }
   ],
   "source": [
    "plt.plot(model.history['loss'])\n",
    "plt.plot(model.history['val_loss'])\n",
    "plt.title('model loss')\n",
    "plt.ylabel('loss')\n",
    "plt.xlabel('epoch')\n",
    "plt.legend(['train', 'test'], loc='upper left')\n",
    "plt.show()"
   ]
  },
  {
   "cell_type": "code",
   "execution_count": 39,
   "id": "958c3223-1a0b-4e64-a559-854bac03241e",
   "metadata": {},
   "outputs": [
    {
     "data": {
      "text/plain": [
       "{'loss': [1.1877223253250122,\n",
       "  1.1804848909378052,\n",
       "  1.2185635566711426,\n",
       "  1.1911381483078003,\n",
       "  1.2208640575408936,\n",
       "  1.2114448547363281,\n",
       "  1.158426284790039,\n",
       "  1.1812670230865479,\n",
       "  1.194933533668518,\n",
       "  1.1923593282699585],\n",
       " 'accuracy': [0.6006944179534912,\n",
       "  0.5960648059844971,\n",
       "  0.5753477811813354,\n",
       "  0.5979938507080078,\n",
       "  0.5814043283462524,\n",
       "  0.59375,\n",
       "  0.6037808656692505,\n",
       "  0.595678985118866,\n",
       "  0.5879629850387573,\n",
       "  0.5922067761421204],\n",
       " 'val_loss': [0.8524688482284546,\n",
       "  0.8312650322914124,\n",
       "  0.8513986468315125,\n",
       "  0.888990044593811,\n",
       "  0.8369901180267334,\n",
       "  0.8263195157051086,\n",
       "  0.8032686710357666,\n",
       "  0.809203565120697,\n",
       "  0.8581427931785583,\n",
       "  0.8592984080314636],\n",
       " 'val_accuracy': [0.7643164992332458,\n",
       "  0.7566194534301758,\n",
       "  0.7473829984664917,\n",
       "  0.7378386855125427,\n",
       "  0.7560036778450012,\n",
       "  0.7520012259483337,\n",
       "  0.7544642686843872,\n",
       "  0.7567734122276306,\n",
       "  0.7361453175544739,\n",
       "  0.7464593648910522]}"
      ]
     },
     "execution_count": 39,
     "metadata": {},
     "output_type": "execute_result"
    }
   ],
   "source": [
    "model.history"
   ]
  }
 ],
 "metadata": {
  "kernelspec": {
   "display_name": "Python 3 (ipykernel)",
   "language": "python",
   "name": "python3"
  },
  "language_info": {
   "codemirror_mode": {
    "name": "ipython",
    "version": 3
   },
   "file_extension": ".py",
   "mimetype": "text/x-python",
   "name": "python",
   "nbconvert_exporter": "python",
   "pygments_lexer": "ipython3",
   "version": "3.11.5"
  }
 },
 "nbformat": 4,
 "nbformat_minor": 5
}
